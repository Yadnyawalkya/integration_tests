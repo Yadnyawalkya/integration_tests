{
 "cells": [
  {
   "cell_type": "code",
   "execution_count": 5,
   "metadata": {
    "scrolled": true
   },
   "outputs": [
    {
     "data": {
      "text/plain": [
       "True"
      ]
     },
     "execution_count": 5,
     "metadata": {},
     "output_type": "execute_result"
    }
   ],
   "source": [
    "from cfme.utils import conf\n",
    "import fauxfactory\n",
    "from cfme.fixtures.pytest_store import store\n",
    "from cfme.utils.appliance.implementations.ui import navigate_to\n",
    "from cfme.utils import providers\n",
    "from cfme.utils.appliance import get_or_create_current_appliance\n",
    "appliance = get_or_create_current_appliance()\n",
    "from cfme.fixtures.v2v_fixtures import infra_mapping_default_data              \n",
    "rhv_provider = providers.get_crud(\"rhv42\")                                     \n",
    "vmware_provider = providers.get_crud(\"vsphere65-nested\")                       \n",
    "infra_mapping_data = infra_mapping_default_data(vmware_provider, rhv_provider)\n",
    "infra_map = appliance.collections.v2v_infra_mappings.create(**infra_mapping_data)\n",
    "plan_name = \"map_{}\".format(fauxfactory.gen_alpha(10))\n",
    "\n",
    "######\n",
    "\n",
    "plan_obj = appliance.collections.v2v_migration_plans\n",
    "view = navigate_to(plan_obj, 'Add')\n",
    "radio_btn = \"Import a CSV file with a list of VMs to be migrated\"\n",
    "view.general.fill({\"infra_map\": infra_map.name,\n",
    "                   \"name\": \"dasdadadas\",\n",
    "                   \"description\": \"description\",\n",
    "                   \"select_vm\": radio_btn})"
   ]
  },
  {
   "cell_type": "code",
   "execution_count": 9,
   "metadata": {},
   "outputs": [],
   "source": [
    "from widgetastic.exceptions import WidgetOperationFailed\n",
    "\n",
    "try:\n",
    "    view.vms.fill({\n",
    "    'csv_import': True,\n",
    "    'vm_list': [\"test-snpst-cz8o\"]})\n",
    "except WidgetOperationFailed:\n",
    "    pass\n",
    " "
   ]
  },
  {
   "cell_type": "code",
   "execution_count": 10,
   "metadata": {},
   "outputs": [],
   "source": [
    "# view.vms.table[0][1].widget.click()\n",
    "# error_msg = view.vms.popover_text.read()"
   ]
  },
  {
   "cell_type": "code",
   "execution_count": null,
   "metadata": {},
   "outputs": [],
   "source": []
  }
 ],
 "metadata": {
  "kernelspec": {
   "display_name": "Python 2",
   "language": "python",
   "name": "python2"
  },
  "language_info": {
   "codemirror_mode": {
    "name": "ipython",
    "version": 2
   },
   "file_extension": ".py",
   "mimetype": "text/x-python",
   "name": "python",
   "nbconvert_exporter": "python",
   "pygments_lexer": "ipython2",
   "version": "2.7.15"
  }
 },
 "nbformat": 4,
 "nbformat_minor": 2
}
